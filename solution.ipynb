{
 "cells": [
  {
   "cell_type": "markdown",
   "id": "de18876e",
   "metadata": {
    "papermill": {
     "duration": 0.0031,
     "end_time": "2024-12-07T14:10:08.864538",
     "exception": false,
     "start_time": "2024-12-07T14:10:08.861438",
     "status": "completed"
    },
    "tags": []
   },
   "source": [
    "### Add support for dropout in the fully-connected layers\n",
    "    The dropout is added in the fully-connected layer in CustomModel, the probability is set in the argument of the function."
   ]
  },
  {
   "cell_type": "markdown",
   "id": "b5f51cbc",
   "metadata": {
    "papermill": {
     "duration": 0.002301,
     "end_time": "2024-12-07T14:10:08.869536",
     "exception": false,
     "start_time": "2024-12-07T14:10:08.867235",
     "status": "completed"
    },
    "tags": []
   },
   "source": [
    "### Add support for GeM pooling\n",
    "    The GeM pooling is used in the CustomModel after the backbone, its implementation is taken from github repo website: https://amaarora.github.io/posts/2020-08-30-gempool.html."
   ]
  },
  {
   "cell_type": "code",
   "execution_count": 1,
   "id": "136a17d6",
   "metadata": {
    "execution": {
     "iopub.execute_input": "2024-12-07T14:10:08.876083Z",
     "iopub.status.busy": "2024-12-07T14:10:08.875794Z",
     "iopub.status.idle": "2024-12-07T14:10:16.311852Z",
     "shell.execute_reply": "2024-12-07T14:10:16.311062Z"
    },
    "papermill": {
     "duration": 7.442017,
     "end_time": "2024-12-07T14:10:16.313954",
     "exception": false,
     "start_time": "2024-12-07T14:10:08.871937",
     "status": "completed"
    },
    "tags": []
   },
   "outputs": [],
   "source": [
    "from torch.utils.data import Dataset, DataLoader\n",
    "from torch import nn\n",
    "from transformers import AutoModel, AutoTokenizer, get_cosine_schedule_with_warmup\n",
    "from datasets import load_dataset\n",
    "import pandas as pd\n",
    "import os\n",
    "import random\n",
    "import matplotlib.pyplot as plt\n",
    "import numpy as np\n",
    "import torchvision\n",
    "\n",
    "\n",
    "class CustomDataset(Dataset):\n",
    "    def __init__(self, df, root_dir, transform=None, train=True):\n",
    "        self.image_paths = df[\"image_id\"]\n",
    "        if train:\n",
    "            self.labels = df[\"label\"]\n",
    "        else:\n",
    "            self.labels = None\n",
    "        self.root_dir = root_dir\n",
    "        self.transform = transform\n",
    "    \n",
    "    def __len__(self):\n",
    "        return len(self.image_paths)\n",
    "\n",
    "    def __getitem__(self, idx):\n",
    "        img_path = os.path.join(self.root_dir, self.image_paths.iloc[idx])\n",
    "        img = Image.open(img_path)\n",
    "        \n",
    "        if self.transform:\n",
    "            img = self.transform(img)\n",
    "\n",
    "        if self.labels is not None:\n",
    "            label = self.labels.iloc[idx]\n",
    "            label = torch.tensor(label_mapping[label], dtype=torch.long)\n",
    "            return img, label\n",
    "        else:\n",
    "            return img, torch.zeros(img.shape)\n",
    "\n",
    "\n",
    "class CustomModel(nn.Module):\n",
    "    def __init__(self, backbone, num_classes=6, dropout_prob=0.3, model_type=\"cnn\"):\n",
    "        super(CustomModel, self).__init__()\n",
    "        \n",
    "        self.backbone = backbone\n",
    "        self.model_type = model_type\n",
    "        \n",
    "        in_features = self.backbone.num_features\n",
    "        self.pooling = GeM()\n",
    "\n",
    "        self.fc = nn.Sequential(\n",
    "            nn.Dropout(dropout_prob),\n",
    "            nn.Linear(in_features, 512),\n",
    "            nn.ReLU(),\n",
    "            nn.Linear(512, num_classes),\n",
    "        )\n",
    "\n",
    "    def forward(self, x):\n",
    "        if self.model_type == \"cnn\":\n",
    "            x = self.backbone.forward_features(x)\n",
    "            x = self.pooling(x)\n",
    "            x = x.view(x.size(0), -1)\n",
    "            x = self.fc(x)\n",
    "        elif self.model_type == \"swin\":\n",
    "            x = self.backbone.forward_features(x)\n",
    "            x = x.permute(0, 3, 1, 2)\n",
    "            x = self.pooling(x)\n",
    "            x = x.view(x.size(0), -1)\n",
    "            x = self.fc(x)\n",
    "        elif self.model_type == \"vit\":\n",
    "            x = self.backbone.forward_features(x)\n",
    "            x = x[:, 0, :] # CLS pooling\n",
    "            x = self.fc(x)\n",
    "\n",
    "        return x\n",
    "\n",
    "\n",
    "# taken from: https://amaarora.github.io/posts/2020-08-30-gempool.html\n",
    "class GeM(nn.Module):\n",
    "    def __init__(self, p=3, eps=1e-6):\n",
    "        super(GeM,self).__init__()\n",
    "        self.p = nn.Parameter(torch.ones(1)*p)\n",
    "        self.eps = eps\n",
    "\n",
    "    def forward(self, x):\n",
    "        return self.gem(x, p=self.p, eps=self.eps)\n",
    "        \n",
    "    def gem(self, x, p=3, eps=1e-6):\n",
    "        return nn.functional.avg_pool2d(x.clamp(min=eps).pow(p), (x.size(-2), x.size(-1))).pow(1./p)\n",
    "        \n",
    "    def __repr__(self):\n",
    "        return self.__class__.__name__ + '(' + 'p=' + '{:.4f}'.format(self.p.data.tolist()[0]) + ', ' + 'eps=' + str(self.eps) + ')'"
   ]
  },
  {
   "cell_type": "markdown",
   "id": "b7809f82",
   "metadata": {
    "papermill": {
     "duration": 0.002407,
     "end_time": "2024-12-07T14:10:16.319221",
     "exception": false,
     "start_time": "2024-12-07T14:10:16.316814",
     "status": "completed"
    },
    "tags": []
   },
   "source": [
    "### Add support for test time augmentations\n",
    "    The test time augmentation is defined in function tta_inference, which can be used instead of inference_loop based on the apply_tta parameter in the validation_loop or in the predict function for testing."
   ]
  },
  {
   "cell_type": "code",
   "execution_count": 2,
   "id": "7b37c32a",
   "metadata": {
    "execution": {
     "iopub.execute_input": "2024-12-07T14:10:16.325463Z",
     "iopub.status.busy": "2024-12-07T14:10:16.324960Z",
     "iopub.status.idle": "2024-12-07T14:10:16.435820Z",
     "shell.execute_reply": "2024-12-07T14:10:16.435091Z"
    },
    "papermill": {
     "duration": 0.116203,
     "end_time": "2024-12-07T14:10:16.437801",
     "exception": false,
     "start_time": "2024-12-07T14:10:16.321598",
     "status": "completed"
    },
    "tags": []
   },
   "outputs": [],
   "source": [
    "import torchvision.transforms as T\n",
    "from torchvision.transforms import Compose, Normalize, RandomErasing, Pad\n",
    "from torchvision.transforms.v2 import CutMix, MixUp\n",
    "\n",
    "cutmix = CutMix(num_classes=6, alpha=1.0)\n",
    "mixup = MixUp(num_classes=6, alpha=1.0) \n",
    "\n",
    "def tta_inference(model, dataloader, device, loss_fn=None, only_horizontal=True, normalize=None, normalize_input=False):\n",
    "    predictions = []\n",
    "    labels = []\n",
    "    total_loss = 0.0\n",
    "    total_samples = 0\n",
    "\n",
    "    model.to(device)\n",
    "    model.eval()\n",
    "    pbar = tqdm(dataloader, desc=\"TTA_Inference\")\n",
    "\n",
    "    with torch.no_grad():\n",
    "        for images, l in pbar:\n",
    "            images, l = images.to(device), l.to(device)\n",
    "            batch_preds = []\n",
    "            if only_horizontal:\n",
    "                horizontal_transform = Compose([T.RandomHorizontalFlip(p=1)])\n",
    "                augmented_images = torch.stack([horizontal_transform(img.cpu()) for img in images]).to(device)\n",
    "                # augmented images\n",
    "                pred = model(augmented_images)\n",
    "                batch_preds.append(pred)\n",
    "\n",
    "                # original images\n",
    "                pred = model(images)\n",
    "                batch_preds.append(pred)\n",
    "            else:\n",
    "                TTA_augmentations = [T.RandomHorizontalFlip(p=1),\n",
    "                                     T.RandomVerticalFlip(p=1),\n",
    "                                     T.RandomRotation(15)]\n",
    "                for i in range(3):\n",
    "                    tta_transform = Compose([TTA_augmentations[i]])\n",
    "                    augmented_images = torch.stack([tta_transform(img.cpu()) for img in images]).to(device)\n",
    "                    # augmented images\n",
    "                    pred = model(augmented_images)\n",
    "                    batch_preds.append(pred)\n",
    "\n",
    "                # original images\n",
    "                pred = model(images)\n",
    "                batch_preds.append(pred)\n",
    "\n",
    "            avg_preds = torch.stack(batch_preds, dim=0).mean(dim=0)\n",
    "        \n",
    "            if loss_fn:\n",
    "                loss = loss_fn(avg_preds, l)\n",
    "                batch_size = images.size(0)\n",
    "                total_loss += loss.item() * batch_size\n",
    "                total_samples += batch_size\n",
    "\n",
    "            y_pred = torch.argmax(avg_preds, dim=1)\n",
    "            \n",
    "            predictions.extend(y_pred.cpu().tolist())\n",
    "            labels.extend(l.cpu().tolist())\n",
    "\n",
    "    if loss_fn:\n",
    "        return predictions, labels, total_loss, total_samples\n",
    "        \n",
    "    return predictions, labels\n"
   ]
  },
  {
   "cell_type": "markdown",
   "id": "d9e7bc95",
   "metadata": {
    "papermill": {
     "duration": 0.002305,
     "end_time": "2024-12-07T14:10:16.442822",
     "exception": false,
     "start_time": "2024-12-07T14:10:16.440517",
     "status": "completed"
    },
    "tags": []
   },
   "source": [
    "### Add support for mix augmentations\n",
    "    The augmentations are in the training loop, there are 4 options (normal - using random augmentations in Compose, cutmix - using CutMix, mixup - using MixUp, combined - using combination of all above), the CutMix and MixUp are from torchvision."
   ]
  },
  {
   "cell_type": "code",
   "execution_count": 3,
   "id": "1bb47d4a",
   "metadata": {
    "execution": {
     "iopub.execute_input": "2024-12-07T14:10:16.450109Z",
     "iopub.status.busy": "2024-12-07T14:10:16.449859Z",
     "iopub.status.idle": "2024-12-07T14:10:17.747036Z",
     "shell.execute_reply": "2024-12-07T14:10:17.746068Z"
    },
    "papermill": {
     "duration": 1.304041,
     "end_time": "2024-12-07T14:10:17.749255",
     "exception": false,
     "start_time": "2024-12-07T14:10:16.445214",
     "status": "completed"
    },
    "tags": []
   },
   "outputs": [],
   "source": [
    "from tqdm import tqdm\n",
    "from sklearn.metrics import accuracy_score\n",
    "import torch\n",
    "import torch.nn.functional as F\n",
    "\n",
    "\n",
    "def accuracy(x, y):\n",
    "    return accuracy_score(x, y)\n",
    "\n",
    "def train_loop(train_dl, model, loss_fn, optimizer, scheduler, device, log_every=10, augmentation='combined'):\n",
    "    epoch_loss = 0\n",
    "    total_samples = 0\n",
    "    lr_values = []\n",
    "\n",
    "    model.train()\n",
    "    pbar = tqdm(train_dl, desc=\"Training\")\n",
    "\n",
    "    for batch_idx, (x, y) in enumerate(pbar):\n",
    "        x, y = x.to(device), y.to(device)\n",
    "        \n",
    "        if augmentation == 'normal':    \n",
    "            augmentation_pipeline = T.Compose(random.sample(augmentations, k=random.randint(0, 3)))\n",
    "            x = torch.stack([augmentation_pipeline(img.cpu()) for img in x]).to(device)    \n",
    "        elif augmentation == 'cutmix':\n",
    "            if torch.rand(1).item() < 0.7:\n",
    "                x, y = cutmix(x, y)\n",
    "        elif augmentation == 'mixup':\n",
    "            if torch.rand(1).item() < 0.7:\n",
    "                x, y = mixup(x, y)\n",
    "        elif augmentation == 'combined':\n",
    "            augmentation_pipeline = T.Compose(random.sample(augmentations, k=random.randint(0, 2)))\n",
    "            x = torch.stack([augmentation_pipeline(img.cpu()) for img in x]).to(device)\n",
    "            random_num = torch.rand(1).item()\n",
    "            if random_num < 0.25:\n",
    "                x, y = cutmix(x, y)\n",
    "            elif random_num < 0.5:\n",
    "                x, y = mixup(x, y)\n",
    "            \n",
    "        optimizer.zero_grad()\n",
    "\n",
    "        # Forward pass\n",
    "        y_pred = model(x)\n",
    "        loss = loss_fn(y_pred, y)\n",
    "\n",
    "        # Backward pass and optimization\n",
    "        loss.backward()\n",
    "        optimizer.step()\n",
    "        scheduler.step()\n",
    "\n",
    "        batch_size = x.size(0)\n",
    "        epoch_loss += loss.item() * batch_size\n",
    "        total_samples += batch_size\n",
    "        lr_values.append(scheduler.get_last_lr()[0])\n",
    "\n",
    "        if batch_idx % log_every == 0:\n",
    "            pbar.set_description(f\"Loss: {loss.item():.4f}\")\n",
    "\n",
    "    epoch_loss /= total_samples\n",
    "    return epoch_loss, lr_values\n",
    "\n",
    "\n",
    "def inference_loop(model, dataloader, device, loss_fn=None):\n",
    "    predictions = []\n",
    "    labels = []\n",
    "    total_loss = 0.0\n",
    "    total_samples = 0\n",
    "\n",
    "    model.to(device)\n",
    "    model.eval()\n",
    "    pbar = tqdm(dataloader, desc=\"Inference\")\n",
    "\n",
    "    with torch.no_grad():\n",
    "        for x, y in pbar:\n",
    "            x, y = x.to(device), y.to(device)\n",
    "\n",
    "            # Forward pass\n",
    "            y_pred = model(x)\n",
    "            \n",
    "            if loss_fn:\n",
    "                loss = loss_fn(y_pred, y)\n",
    "                batch_size = x.size(0)\n",
    "                total_loss += loss.item() * batch_size\n",
    "                total_samples += batch_size\n",
    "\n",
    "            y_pred = torch.argmax(y_pred, dim=1)\n",
    "            \n",
    "            predictions.extend(y_pred.cpu().tolist())\n",
    "            labels.extend(y.cpu().tolist())\n",
    "\n",
    "    if loss_fn:\n",
    "        return predictions, labels, total_loss, total_samples\n",
    "        \n",
    "    return predictions, labels\n",
    "\n",
    "\n",
    "\n",
    "def validation_loop(val_dl, model, loss_fn, val_metrics, device, apply_tta=True):\n",
    "    \"\"\"\n",
    "    Validation loop that calculates loss and metrics using the inference loop.\n",
    "    Args:\n",
    "        val_dl: DataLoader for validation.\n",
    "        model: The model to validate.\n",
    "        loss_fn: Loss function.\n",
    "        val_metrics: List of metric functions.\n",
    "        device: Device to validate on (e.g., \"cuda\" or \"cpu\").\n",
    "    Returns:\n",
    "        val_loss: Average validation loss.\n",
    "        val_metrics: Dictionary of calculated metrics.\n",
    "    \"\"\"\n",
    "\n",
    "    if apply_tta:\n",
    "        predictions, labels, total_loss, total_samples = tta_inference(model, val_dl, device, only_horizontal=False, loss_fn=loss_fn)\n",
    "    else:\n",
    "        predictions, labels, total_loss, total_samples = inference_loop(model, val_dl, device, loss_fn=loss_fn)\n",
    "\n",
    "    val_loss = total_loss / total_samples\n",
    "    metrics = {metric.__name__: metric(labels, predictions) for metric in val_metrics}\n",
    "    return val_loss, metrics\n",
    "\n",
    "def predict(model, test_dl, device, apply_tta=True):\n",
    "    model.to(device)\n",
    "    if apply_tta:\n",
    "        predictions, _ = tta_inference(model, test_dl, device, only_horizontal=False)\n",
    "    else:\n",
    "        predictions, _ = inference_loop(model, test_dl, device)\n",
    "    return predictions\n",
    "\n",
    "def train(model, train_dl, val_dl, loss_fn, epochs, val_metrics, device, optimizer, scheduler):\n",
    "    scores = []\n",
    "    losses = []\n",
    "    val_losses = []\n",
    "    lr_rates = []\n",
    "\n",
    "    best_accuracy = 0.\n",
    "    best_model_state = None\n",
    "\n",
    "    model.to(device)\n",
    "\n",
    "    for epoch in range(epochs):\n",
    "        print(f\"Epoch {epoch + 1}/{epochs}\\n-------------------------------\")\n",
    "\n",
    "        # Train\n",
    "        epoch_loss, epoch_lr_rates = train_loop(train_dl, model, loss_fn, optimizer, scheduler, device)\n",
    "        losses.append(epoch_loss)\n",
    "        lr_rates.extend(epoch_lr_rates)\n",
    "\n",
    "        # Validate\n",
    "        val_loss, epoch_scores = validation_loop(val_dl, model, loss_fn, val_metrics, device)\n",
    "        val_losses.append(val_loss)\n",
    "        scores.append(epoch_scores)\n",
    "\n",
    "        # Save the best model\n",
    "        if epoch_scores['accuracy'] > best_accuracy:\n",
    "            best_accuracy = epoch_scores['accuracy']\n",
    "            best_model_state = model.state_dict()\n",
    "\n",
    "        print(f\"Train Loss: {epoch_loss:.4f}\")\n",
    "        print(f\"Validation Loss: {val_loss:.4f}\")\n",
    "        print(f\"Validation Metrics: {epoch_scores}\")\n",
    "\n",
    "    if best_model_state:\n",
    "        model.load_state_dict(best_model_state)\n",
    "        print(f\"Best model loaded with validation accuracy: {best_accuracy:.4f}\")\n",
    "\n",
    "    print(\"Training Complete\")\n",
    "    return model, scores, losses, val_losses, lr_rates, best_accuracy"
   ]
  },
  {
   "cell_type": "code",
   "execution_count": 4,
   "id": "85ecf159",
   "metadata": {
    "execution": {
     "iopub.execute_input": "2024-12-07T14:10:17.755902Z",
     "iopub.status.busy": "2024-12-07T14:10:17.755424Z",
     "iopub.status.idle": "2024-12-07T14:10:17.810566Z",
     "shell.execute_reply": "2024-12-07T14:10:17.809638Z"
    },
    "papermill": {
     "duration": 0.060611,
     "end_time": "2024-12-07T14:10:17.812636",
     "exception": false,
     "start_time": "2024-12-07T14:10:17.752025",
     "status": "completed"
    },
    "tags": []
   },
   "outputs": [
    {
     "name": "stdout",
     "output_type": "stream",
     "text": [
      "6466 1294\n"
     ]
    }
   ],
   "source": [
    "from sklearn.model_selection import train_test_split\n",
    "\n",
    "df = pd.read_csv(\"/kaggle/input/nie-pdl-24-final-competition/train.csv\")\n",
    "\n",
    "# make mapping for labels\n",
    "label_mapping = {label: idx for idx, label in enumerate(df[\"label\"].unique())}\n",
    "reverse_label_mapping = {idx: label for label, idx in label_mapping.items()}\n",
    "\n",
    "# split train and test data uniformly\n",
    "df_train, df_valid = train_test_split(df, test_size=0.2, stratify=df['label'])\n",
    "df_train = df\n",
    "\n",
    "df_train = df_train.reset_index(drop=True)\n",
    "df_valid = df_valid.reset_index(drop=True)\n",
    "print(df_train.shape[0], df_valid.shape[0])"
   ]
  },
  {
   "cell_type": "code",
   "execution_count": 5,
   "id": "2964b4cc",
   "metadata": {
    "execution": {
     "iopub.execute_input": "2024-12-07T14:10:17.819552Z",
     "iopub.status.busy": "2024-12-07T14:10:17.819250Z",
     "iopub.status.idle": "2024-12-07T21:48:54.865779Z",
     "shell.execute_reply": "2024-12-07T21:48:54.864854Z"
    },
    "papermill": {
     "duration": 27517.572331,
     "end_time": "2024-12-07T21:48:55.387987",
     "exception": false,
     "start_time": "2024-12-07T14:10:17.815656",
     "status": "completed"
    },
    "tags": []
   },
   "outputs": [
    {
     "data": {
      "application/vnd.jupyter.widget-view+json": {
       "model_id": "e8042d6fddc24ea9b7d045a45db66a09",
       "version_major": 2,
       "version_minor": 0
      },
      "text/plain": [
       "model.safetensors:   0%|          | 0.00/1.22G [00:00<?, ?B/s]"
      ]
     },
     "metadata": {},
     "output_type": "display_data"
    },
    {
     "name": "stdout",
     "output_type": "stream",
     "text": [
      "Epoch 1/7\n",
      "-------------------------------\n"
     ]
    },
    {
     "name": "stderr",
     "output_type": "stream",
     "text": [
      "Loss: 1.2774: 100%|██████████| 1294/1294 [54:43<00:00,  2.54s/it]\n",
      "TTA_Inference: 100%|██████████| 259/259 [11:35<00:00,  2.68s/it]\n"
     ]
    },
    {
     "name": "stdout",
     "output_type": "stream",
     "text": [
      "Train Loss: 1.3162\n",
      "Validation Loss: 0.4877\n",
      "Validation Metrics: {'accuracy': 0.8338485316846986}\n",
      "Epoch 2/7\n",
      "-------------------------------\n"
     ]
    },
    {
     "name": "stderr",
     "output_type": "stream",
     "text": [
      "Loss: 1.6696: 100%|██████████| 1294/1294 [53:48<00:00,  2.50s/it]\n",
      "TTA_Inference: 100%|██████████| 259/259 [11:36<00:00,  2.69s/it]\n"
     ]
    },
    {
     "name": "stdout",
     "output_type": "stream",
     "text": [
      "Train Loss: 0.9105\n",
      "Validation Loss: 0.3214\n",
      "Validation Metrics: {'accuracy': 0.8964451313755796}\n",
      "Epoch 3/7\n",
      "-------------------------------\n"
     ]
    },
    {
     "name": "stderr",
     "output_type": "stream",
     "text": [
      "Loss: 0.9564: 100%|██████████| 1294/1294 [53:49<00:00,  2.50s/it]\n",
      "TTA_Inference: 100%|██████████| 259/259 [11:34<00:00,  2.68s/it]\n"
     ]
    },
    {
     "name": "stdout",
     "output_type": "stream",
     "text": [
      "Train Loss: 0.7581\n",
      "Validation Loss: 0.2122\n",
      "Validation Metrics: {'accuracy': 0.9343122102009274}\n",
      "Epoch 4/7\n",
      "-------------------------------\n"
     ]
    },
    {
     "name": "stderr",
     "output_type": "stream",
     "text": [
      "Loss: 0.0978: 100%|██████████| 1294/1294 [53:43<00:00,  2.49s/it]\n",
      "TTA_Inference: 100%|██████████| 259/259 [11:34<00:00,  2.68s/it]\n"
     ]
    },
    {
     "name": "stdout",
     "output_type": "stream",
     "text": [
      "Train Loss: 0.6896\n",
      "Validation Loss: 0.1170\n",
      "Validation Metrics: {'accuracy': 0.9613601236476044}\n",
      "Epoch 5/7\n",
      "-------------------------------\n"
     ]
    },
    {
     "name": "stderr",
     "output_type": "stream",
     "text": [
      "Loss: 1.0786: 100%|██████████| 1294/1294 [53:48<00:00,  2.49s/it]\n",
      "TTA_Inference: 100%|██████████| 259/259 [11:34<00:00,  2.68s/it]\n"
     ]
    },
    {
     "name": "stdout",
     "output_type": "stream",
     "text": [
      "Train Loss: 0.5871\n",
      "Validation Loss: 0.0848\n",
      "Validation Metrics: {'accuracy': 0.9783616692426584}\n",
      "Epoch 6/7\n",
      "-------------------------------\n"
     ]
    },
    {
     "name": "stderr",
     "output_type": "stream",
     "text": [
      "Loss: 0.4246: 100%|██████████| 1294/1294 [53:41<00:00,  2.49s/it]\n",
      "TTA_Inference: 100%|██████████| 259/259 [11:34<00:00,  2.68s/it]\n"
     ]
    },
    {
     "name": "stdout",
     "output_type": "stream",
     "text": [
      "Train Loss: 0.5652\n",
      "Validation Loss: 0.0678\n",
      "Validation Metrics: {'accuracy': 0.9853168469860897}\n",
      "Epoch 7/7\n",
      "-------------------------------\n"
     ]
    },
    {
     "name": "stderr",
     "output_type": "stream",
     "text": [
      "Loss: 0.5256: 100%|██████████| 1294/1294 [53:43<00:00,  2.49s/it]\n",
      "TTA_Inference: 100%|██████████| 259/259 [11:33<00:00,  2.68s/it]"
     ]
    },
    {
     "name": "stdout",
     "output_type": "stream",
     "text": [
      "Train Loss: 0.5294\n",
      "Validation Loss: 0.0625\n",
      "Validation Metrics: {'accuracy': 0.9868624420401855}\n",
      "Best model loaded with validation accuracy: 0.9869\n",
      "Training Complete\n"
     ]
    },
    {
     "name": "stderr",
     "output_type": "stream",
     "text": [
      "\n"
     ]
    }
   ],
   "source": [
    "import timm\n",
    "from transformers import get_cosine_schedule_with_warmup\n",
    "from PIL import Image\n",
    "\n",
    "# Specify all hyper-parameters\n",
    "backbone = timm.create_model(\n",
    "    \"eva02_large_patch14_448.mim_m38m_ft_in22k_in1k\",\n",
    "    pretrained=True,\n",
    "    drop_path_rate=0.12)\n",
    "data_config = timm.data.resolve_model_data_config(backbone)\n",
    "backbone_image_size = 448\n",
    "data_config['input_size'] = (3, backbone_image_size, backbone_image_size)\n",
    "transforms = timm.data.create_transform(**data_config, is_training=False)\n",
    "\n",
    "augmentations = [\n",
    "    T.RandomHorizontalFlip(p=1),\n",
    "    T.ColorJitter(brightness=0.2, contrast=0.2, saturation=0.05, hue=0.05),\n",
    "    T.RandomResizedCrop(size=(backbone_image_size, backbone_image_size), scale=(0.4, 0.5)),\n",
    "    T.RandomAffine(degrees=15, translate=(0.1, 0.1)),\n",
    "    T.RandomVerticalFlip(p=1),\n",
    "    T.RandomRotation(20),\n",
    "    RandomErasing(p=0.3, scale=(0.02, 0.1), ratio=(0.3, 3.3), value='random'),\n",
    "]\n",
    "\n",
    "learning_rate = 1e-5\n",
    "epochs = 7\n",
    "batch_size= 5\n",
    "device = \"cuda\"\n",
    "val_metrics = [accuracy]\n",
    "loss = nn.CrossEntropyLoss()\n",
    "sample = None\n",
    "model = CustomModel(backbone, model_type=\"vit\")\n",
    "\n",
    "param_groups = [\n",
    "    {\"params\": model.backbone.parameters(), \"lr\": learning_rate * 0.5},  # Backbone\n",
    "    {\"params\": model.fc.parameters(), \"lr\": learning_rate},  # Classifier head\n",
    "]\n",
    "optimizer = torch.optim.AdamW(param_groups, lr=learning_rate)\n",
    "\n",
    "# # Get datasets and data loaders\n",
    "train_ds = CustomDataset(df_train, \"/kaggle/input/nie-pdl-24-final-competition/images\", transforms)\n",
    "train_dl = DataLoader(train_ds, batch_size=batch_size, shuffle=True)\n",
    "\n",
    "val_ds = CustomDataset(df_valid, \"/kaggle/input/nie-pdl-24-final-competition/images\", transforms)\n",
    "val_dl = DataLoader(val_ds, batch_size=batch_size, shuffle=False)\n",
    "\n",
    "scheduler = get_cosine_schedule_with_warmup(optimizer, num_warmup_steps=0, num_training_steps=epochs * len(train_ds)/batch_size)\n",
    "\n",
    "# # Train model\n",
    "model, scores, losses, val_losses, lr_rates, best_accuracy = train(model, train_dl, val_dl, loss, epochs, val_metrics, device, optimizer, scheduler)"
   ]
  },
  {
   "cell_type": "code",
   "execution_count": 6,
   "id": "14ef2f29",
   "metadata": {
    "execution": {
     "iopub.execute_input": "2024-12-07T21:48:56.463672Z",
     "iopub.status.busy": "2024-12-07T21:48:56.463279Z",
     "iopub.status.idle": "2024-12-07T21:48:58.965715Z",
     "shell.execute_reply": "2024-12-07T21:48:58.964825Z"
    },
    "papermill": {
     "duration": 3.058572,
     "end_time": "2024-12-07T21:48:58.967372",
     "exception": false,
     "start_time": "2024-12-07T21:48:55.908800",
     "status": "completed"
    },
    "tags": []
   },
   "outputs": [
    {
     "data": {
      "text/html": [
       "<div>\n",
       "<style scoped>\n",
       "    .dataframe tbody tr th:only-of-type {\n",
       "        vertical-align: middle;\n",
       "    }\n",
       "\n",
       "    .dataframe tbody tr th {\n",
       "        vertical-align: top;\n",
       "    }\n",
       "\n",
       "    .dataframe thead th {\n",
       "        text-align: right;\n",
       "    }\n",
       "</style>\n",
       "<table border=\"1\" class=\"dataframe\">\n",
       "  <thead>\n",
       "    <tr style=\"text-align: right;\">\n",
       "      <th></th>\n",
       "      <th>accuracy</th>\n",
       "    </tr>\n",
       "    <tr>\n",
       "      <th>epoch</th>\n",
       "      <th></th>\n",
       "    </tr>\n",
       "  </thead>\n",
       "  <tbody>\n",
       "    <tr>\n",
       "      <th>0</th>\n",
       "      <td>0.833849</td>\n",
       "    </tr>\n",
       "    <tr>\n",
       "      <th>1</th>\n",
       "      <td>0.896445</td>\n",
       "    </tr>\n",
       "    <tr>\n",
       "      <th>2</th>\n",
       "      <td>0.934312</td>\n",
       "    </tr>\n",
       "    <tr>\n",
       "      <th>3</th>\n",
       "      <td>0.961360</td>\n",
       "    </tr>\n",
       "    <tr>\n",
       "      <th>4</th>\n",
       "      <td>0.978362</td>\n",
       "    </tr>\n",
       "    <tr>\n",
       "      <th>5</th>\n",
       "      <td>0.985317</td>\n",
       "    </tr>\n",
       "    <tr>\n",
       "      <th>6</th>\n",
       "      <td>0.986862</td>\n",
       "    </tr>\n",
       "  </tbody>\n",
       "</table>\n",
       "</div>"
      ],
      "text/plain": [
       "       accuracy\n",
       "epoch          \n",
       "0      0.833849\n",
       "1      0.896445\n",
       "2      0.934312\n",
       "3      0.961360\n",
       "4      0.978362\n",
       "5      0.985317\n",
       "6      0.986862"
      ]
     },
     "execution_count": 6,
     "metadata": {},
     "output_type": "execute_result"
    },
    {
     "data": {
      "image/png": "[encoded data removed]",
      "text/plain": [
       "<Figure size 640x480 with 1 Axes>"
      ]
     },
     "metadata": {},
     "output_type": "display_data"
    },
    {
     "data": {
      "image/png": "[encoded data removed]",
      "text/plain": [
       "<Figure size 640x480 with 1 Axes>"
      ]
     },
     "metadata": {},
     "output_type": "display_data"
    },
    {
     "data": {
      "image/png": "[encoded data removed]",
      "text/plain": [
       "<Figure size 640x480 with 1 Axes>"
      ]
     },
     "metadata": {},
     "output_type": "display_data"
    },
    {
     "data": {
      "image/png": "[encoded data removed]",
      "text/plain": [
       "<Figure size 640x480 with 1 Axes>"
      ]
     },
     "metadata": {},
     "output_type": "display_data"
    }
   ],
   "source": [
    "# Save model weights\n",
    "torch.save(model.state_dict(), 'model_weights.pth')\n",
    "\n",
    "# Plot Learning Rates\n",
    "pd.DataFrame({\"Learning rate\":lr_rates}).plot(xlabel=\"step\", ylabel=\"lr\", style=\"-\", title=\"Train\")\n",
    "\n",
    "# Plot Validation Metrics\n",
    "pd.DataFrame(scores).plot(xlabel=\"epoch\", ylabel=\"score\", style=\"o-\", title=\"Validation\")\n",
    "\n",
    "pd.DataFrame(losses).plot(xlabel=\"epoch\", ylabel=\"Train losses\", style=\"o-\", title=\"Training\")\n",
    "pd.DataFrame(val_losses).plot(xlabel=\"epoch\", ylabel=\"Validation losses\", style=\"o-\", title=\"Validation\")\n",
    "\n",
    "# Show validation metrics\n",
    "val_scores_df = pd.DataFrame(scores)\n",
    "val_scores_df.index.name = \"epoch\"\n",
    "val_scores_df"
   ]
  },
  {
   "cell_type": "code",
   "execution_count": 7,
   "id": "b9bdb829",
   "metadata": {
    "execution": {
     "iopub.execute_input": "2024-12-07T21:49:00.032128Z",
     "iopub.status.busy": "2024-12-07T21:49:00.031802Z",
     "iopub.status.idle": "2024-12-07T22:09:01.552909Z",
     "shell.execute_reply": "2024-12-07T22:09:01.551782Z"
    },
    "papermill": {
     "duration": 1202.074321,
     "end_time": "2024-12-07T22:09:01.554598",
     "exception": false,
     "start_time": "2024-12-07T21:48:59.480277",
     "status": "completed"
    },
    "tags": []
   },
   "outputs": [
    {
     "name": "stdout",
     "output_type": "stream",
     "text": [
      "2000\n",
      "Processing chunk 1/8\n"
     ]
    },
    {
     "name": "stderr",
     "output_type": "stream",
     "text": [
      "TTA_Inference: 100%|██████████| 50/50 [02:28<00:00,  2.96s/it]\n"
     ]
    },
    {
     "name": "stdout",
     "output_type": "stream",
     "text": [
      "Processing chunk 2/8\n"
     ]
    },
    {
     "name": "stderr",
     "output_type": "stream",
     "text": [
      "TTA_Inference: 100%|██████████| 50/50 [02:28<00:00,  2.96s/it]\n"
     ]
    },
    {
     "name": "stdout",
     "output_type": "stream",
     "text": [
      "Processing chunk 3/8\n"
     ]
    },
    {
     "name": "stderr",
     "output_type": "stream",
     "text": [
      "TTA_Inference: 100%|██████████| 50/50 [02:28<00:00,  2.96s/it]\n"
     ]
    },
    {
     "name": "stdout",
     "output_type": "stream",
     "text": [
      "Processing chunk 4/8\n"
     ]
    },
    {
     "name": "stderr",
     "output_type": "stream",
     "text": [
      "TTA_Inference: 100%|██████████| 50/50 [02:28<00:00,  2.96s/it]\n"
     ]
    },
    {
     "name": "stdout",
     "output_type": "stream",
     "text": [
      "Processing chunk 5/8\n"
     ]
    },
    {
     "name": "stderr",
     "output_type": "stream",
     "text": [
      "TTA_Inference: 100%|██████████| 50/50 [02:27<00:00,  2.96s/it]\n"
     ]
    },
    {
     "name": "stdout",
     "output_type": "stream",
     "text": [
      "Processing chunk 6/8\n"
     ]
    },
    {
     "name": "stderr",
     "output_type": "stream",
     "text": [
      "TTA_Inference: 100%|██████████| 50/50 [02:28<00:00,  2.96s/it]\n"
     ]
    },
    {
     "name": "stdout",
     "output_type": "stream",
     "text": [
      "Processing chunk 7/8\n"
     ]
    },
    {
     "name": "stderr",
     "output_type": "stream",
     "text": [
      "TTA_Inference: 100%|██████████| 50/50 [02:27<00:00,  2.95s/it]\n"
     ]
    },
    {
     "name": "stdout",
     "output_type": "stream",
     "text": [
      "Processing chunk 8/8\n"
     ]
    },
    {
     "name": "stderr",
     "output_type": "stream",
     "text": [
      "TTA_Inference: 100%|██████████| 50/50 [02:27<00:00,  2.95s/it]\n"
     ]
    }
   ],
   "source": [
    "import gc\n",
    "del model, train_ds, train_dl, val_ds, val_dl\n",
    "gc.collect()\n",
    "torch.cuda.empty_cache()\n",
    "\n",
    "# To make the inference on all test data, I had to split test dataset into chunks,\n",
    "# and evaluate them separately (problem with size of RAM)\n",
    "def split_dataframe(df, chunk_size):\n",
    "    return [df[i:i + chunk_size] for i in range(0, len(df), chunk_size)]\n",
    "\n",
    "test_df = pd.read_csv(\"/kaggle/input/nie-pdl-24-final-competition/test.csv\")\n",
    "print(len(test_df))\n",
    "chunk_size = 250\n",
    "test_chunks = split_dataframe(test_df, chunk_size)\n",
    "\n",
    "loaded_model = CustomModel(backbone, model_type=\"vit\")\n",
    "loaded_model.load_state_dict(torch.load('model_weights.pth', weights_only=True))\n",
    "loaded_model.eval()\n",
    "\n",
    "loaded_model.to(\"cuda\")\n",
    "preds = []\n",
    "\n",
    "for i, chunk in enumerate(test_chunks):\n",
    "    print(f\"Processing chunk {i + 1}/{len(test_chunks)}\")\n",
    "    \n",
    "    test_ds = CustomDataset(chunk, \"/kaggle/input/nie-pdl-24-final-competition/images\", transforms, train=False)\n",
    "    test_dl = DataLoader(test_ds, batch_size=batch_size, shuffle=False)\n",
    "    \n",
    "    chunk_preds = predict(loaded_model, test_dl, \"cuda\")\n",
    "    preds.extend(chunk_preds)\n",
    "    \n",
    "    del test_ds, test_dl, chunk_preds\n",
    "    gc.collect()\n",
    "    torch.cuda.empty_cache()"
   ]
  },
  {
   "cell_type": "code",
   "execution_count": 8,
   "id": "055c2022",
   "metadata": {
    "execution": {
     "iopub.execute_input": "2024-12-07T22:09:02.659056Z",
     "iopub.status.busy": "2024-12-07T22:09:02.658244Z",
     "iopub.status.idle": "2024-12-07T22:09:02.676901Z",
     "shell.execute_reply": "2024-12-07T22:09:02.676128Z"
    },
    "papermill": {
     "duration": 0.591521,
     "end_time": "2024-12-07T22:09:02.678561",
     "exception": false,
     "start_time": "2024-12-07T22:09:02.087040",
     "status": "completed"
    },
    "tags": []
   },
   "outputs": [
    {
     "name": "stdout",
     "output_type": "stream",
     "text": [
      "0.9868624420401855\n"
     ]
    },
    {
     "data": {
      "text/html": [
       "<div>\n",
       "<style scoped>\n",
       "    .dataframe tbody tr th:only-of-type {\n",
       "        vertical-align: middle;\n",
       "    }\n",
       "\n",
       "    .dataframe tbody tr th {\n",
       "        vertical-align: top;\n",
       "    }\n",
       "\n",
       "    .dataframe thead th {\n",
       "        text-align: right;\n",
       "    }\n",
       "</style>\n",
       "<table border=\"1\" class=\"dataframe\">\n",
       "  <thead>\n",
       "    <tr style=\"text-align: right;\">\n",
       "      <th></th>\n",
       "      <th>image_id</th>\n",
       "      <th>label</th>\n",
       "    </tr>\n",
       "  </thead>\n",
       "  <tbody>\n",
       "    <tr>\n",
       "      <th>0</th>\n",
       "      <td>6188.png</td>\n",
       "      <td>Rembrandt-Harmenszoon-van-Rijn</td>\n",
       "    </tr>\n",
       "    <tr>\n",
       "      <th>1</th>\n",
       "      <td>4895.png</td>\n",
       "      <td>Pablo-Picasso</td>\n",
       "    </tr>\n",
       "    <tr>\n",
       "      <th>2</th>\n",
       "      <td>7716.png</td>\n",
       "      <td>Vincent-van-Gogh</td>\n",
       "    </tr>\n",
       "    <tr>\n",
       "      <th>3</th>\n",
       "      <td>4180.png</td>\n",
       "      <td>Claude-Monet</td>\n",
       "    </tr>\n",
       "    <tr>\n",
       "      <th>4</th>\n",
       "      <td>5261.png</td>\n",
       "      <td>Andy-Warhol</td>\n",
       "    </tr>\n",
       "  </tbody>\n",
       "</table>\n",
       "</div>"
      ],
      "text/plain": [
       "   image_id                           label\n",
       "0  6188.png  Rembrandt-Harmenszoon-van-Rijn\n",
       "1  4895.png                   Pablo-Picasso\n",
       "2  7716.png                Vincent-van-Gogh\n",
       "3  4180.png                    Claude-Monet\n",
       "4  5261.png                     Andy-Warhol"
      ]
     },
     "execution_count": 8,
     "metadata": {},
     "output_type": "execute_result"
    }
   ],
   "source": [
    "assert len(preds) == test_df.shape[0]\n",
    "print(best_accuracy)\n",
    "sub = pd.DataFrame({\"image_id\": test_df[\"image_id\"].values, \"label\": [reverse_label_mapping[prediction] for prediction in preds]})\n",
    "filename = f\"sub_{best_accuracy}.csv\"\n",
    "sub.to_csv(filename, index=False)\n",
    "sub.head()"
   ]
  }
 ],
 "metadata": {
  "kaggle": {
   "accelerator": "gpu",
   "dataSources": [
    {
     "databundleVersionId": 10162064,
     "sourceId": 88675,
     "sourceType": "competition"
    }
   ],
   "dockerImageVersionId": 30805,
   "isGpuEnabled": true,
   "isInternetEnabled": true,
   "language": "python",
   "sourceType": "notebook"
  },
  "kernelspec": {
   "display_name": "Python 3",
   "language": "python",
   "name": "python3"
  },
  "language_info": {
   "codemirror_mode": {
    "name": "ipython",
    "version": 3
   },
   "file_extension": ".py",
   "mimetype": "text/x-python",
   "name": "python",
   "nbconvert_exporter": "python",
   "pygments_lexer": "ipython3",
   "version": "3.10.14"
  },
  "papermill": {
   "default_parameters": {},
   "duration": 28739.693595,
   "end_time": "2024-12-07T22:09:06.098596",
   "environment_variables": {},
   "exception": null,
   "input_path": "__notebook__.ipynb",
   "output_path": "__notebook__.ipynb",
   "parameters": {},
   "start_time": "2024-12-07T14:10:06.405001",
   "version": "2.6.0"
  },
  "widgets": {
   "application/vnd.jupyter.widget-state+json": {
    "state": {
     "0f06fba05ac24c4f87a9ae2fce916841": {
      "model_module": "@jupyter-widgets/base",
      "model_module_version": "2.0.0",
      "model_name": "LayoutModel",
      "state": {
       "_model_module": "@jupyter-widgets/base",
       "_model_module_version": "2.0.0",
       "_model_name": "LayoutModel",
       "_view_count": null,
       "_view_module": "@jupyter-widgets/base",
       "_view_module_version": "2.0.0",
       "_view_name": "LayoutView",
       "align_content": null,
       "align_items": null,
       "align_self": null,
       "border_bottom": null,
       "border_left": null,
       "border_right": null,
       "border_top": null,
       "bottom": null,
       "display": null,
       "flex": null,
       "flex_flow": null,
       "grid_area": null,
       "grid_auto_columns": null,
       "grid_auto_flow": null,
       "grid_auto_rows": null,
       "grid_column": null,
       "grid_gap": null,
       "grid_row": null,
       "grid_template_areas": null,
       "grid_template_columns": null,
       "grid_template_rows": null,
       "height": null,
       "justify_content": null,
       "justify_items": null,
       "left": null,
       "margin": null,
       "max_height": null,
       "max_width": null,
       "min_height": null,
       "min_width": null,
       "object_fit": null,
       "object_position": null,
       "order": null,
       "overflow": null,
       "padding": null,
       "right": null,
       "top": null,
       "visibility": null,
       "width": null
      }
     },
     "0f3022376aab439dbf61581397e57569": {
      "model_module": "@jupyter-widgets/controls",
      "model_module_version": "2.0.0",
      "model_name": "HTMLStyleModel",
      "state": {
       "_model_module": "@jupyter-widgets/controls",
       "_model_module_version": "2.0.0",
       "_model_name": "HTMLStyleModel",
       "_view_count": null,
       "_view_module": "@jupyter-widgets/base",
       "_view_module_version": "2.0.0",
       "_view_name": "StyleView",
       "background": null,
       "description_width": "",
       "font_size": null,
       "text_color": null
      }
     },
     "24929269ac4b48a5874d04e58558b24e": {
      "model_module": "@jupyter-widgets/controls",
      "model_module_version": "2.0.0",
      "model_name": "HTMLStyleModel",
      "state": {
       "_model_module": "@jupyter-widgets/controls",
       "_model_module_version": "2.0.0",
       "_model_name": "HTMLStyleModel",
       "_view_count": null,
       "_view_module": "@jupyter-widgets/base",
       "_view_module_version": "2.0.0",
       "_view_name": "StyleView",
       "background": null,
       "description_width": "",
       "font_size": null,
       "text_color": null
      }
     },
     "49bf0f9e60484df4ab121ea7a161819c": {
      "model_module": "@jupyter-widgets/base",
      "model_module_version": "2.0.0",
      "model_name": "LayoutModel",
      "state": {
       "_model_module": "@jupyter-widgets/base",
       "_model_module_version": "2.0.0",
       "_model_name": "LayoutModel",
       "_view_count": null,
       "_view_module": "@jupyter-widgets/base",
       "_view_module_version": "2.0.0",
       "_view_name": "LayoutView",
       "align_content": null,
       "align_items": null,
       "align_self": null,
       "border_bottom": null,
       "border_left": null,
       "border_right": null,
       "border_top": null,
       "bottom": null,
       "display": null,
       "flex": null,
       "flex_flow": null,
       "grid_area": null,
       "grid_auto_columns": null,
       "grid_auto_flow": null,
       "grid_auto_rows": null,
       "grid_column": null,
       "grid_gap": null,
       "grid_row": null,
       "grid_template_areas": null,
       "grid_template_columns": null,
       "grid_template_rows": null,
       "height": null,
       "justify_content": null,
       "justify_items": null,
       "left": null,
       "margin": null,
       "max_height": null,
       "max_width": null,
       "min_height": null,
       "min_width": null,
       "object_fit": null,
       "object_position": null,
       "order": null,
       "overflow": null,
       "padding": null,
       "right": null,
       "top": null,
       "visibility": null,
       "width": null
      }
     },
     "8dbb6369ef2d4fb8b188c3ece5a0d516": {
      "model_module": "@jupyter-widgets/controls",
      "model_module_version": "2.0.0",
      "model_name": "HTMLModel",
      "state": {
       "_dom_classes": [],
       "_model_module": "@jupyter-widgets/controls",
       "_model_module_version": "2.0.0",
       "_model_name": "HTMLModel",
       "_view_count": null,
       "_view_module": "@jupyter-widgets/controls",
       "_view_module_version": "2.0.0",
       "_view_name": "HTMLView",
       "description": "",
       "description_allow_html": false,
       "layout": "IPY_MODEL_0f06fba05ac24c4f87a9ae2fce916841",
       "placeholder": "​",
       "style": "IPY_MODEL_0f3022376aab439dbf61581397e57569",
       "tabbable": null,
       "tooltip": null,
       "value": " 1.22G/1.22G [00:05&lt;00:00, 245MB/s]"
      }
     },
     "d96f344a4704410d9c709fa61250773c": {
      "model_module": "@jupyter-widgets/base",
      "model_module_version": "2.0.0",
      "model_name": "LayoutModel",
      "state": {
       "_model_module": "@jupyter-widgets/base",
       "_model_module_version": "2.0.0",
       "_model_name": "LayoutModel",
       "_view_count": null,
       "_view_module": "@jupyter-widgets/base",
       "_view_module_version": "2.0.0",
       "_view_name": "LayoutView",
       "align_content": null,
       "align_items": null,
       "align_self": null,
       "border_bottom": null,
       "border_left": null,
       "border_right": null,
       "border_top": null,
       "bottom": null,
       "display": null,
       "flex": null,
       "flex_flow": null,
       "grid_area": null,
       "grid_auto_columns": null,
       "grid_auto_flow": null,
       "grid_auto_rows": null,
       "grid_column": null,
       "grid_gap": null,
       "grid_row": null,
       "grid_template_areas": null,
       "grid_template_columns": null,
       "grid_template_rows": null,
       "height": null,
       "justify_content": null,
       "justify_items": null,
       "left": null,
       "margin": null,
       "max_height": null,
       "max_width": null,
       "min_height": null,
       "min_width": null,
       "object_fit": null,
       "object_position": null,
       "order": null,
       "overflow": null,
       "padding": null,
       "right": null,
       "top": null,
       "visibility": null,
       "width": null
      }
     },
     "db02838233f547be8f66fdf6ae2603ee": {
      "model_module": "@jupyter-widgets/controls",
      "model_module_version": "2.0.0",
      "model_name": "FloatProgressModel",
      "state": {
       "_dom_classes": [],
       "_model_module": "@jupyter-widgets/controls",
       "_model_module_version": "2.0.0",
       "_model_name": "FloatProgressModel",
       "_view_count": null,
       "_view_module": "@jupyter-widgets/controls",
       "_view_module_version": "2.0.0",
       "_view_name": "ProgressView",
       "bar_style": "success",
       "description": "",
       "description_allow_html": false,
       "layout": "IPY_MODEL_e591ea588cbd46b78a13d03f95001aec",
       "max": 1220365908.0,
       "min": 0.0,
       "orientation": "horizontal",
       "style": "IPY_MODEL_e0167ff2fdf343e791f32bfc0547938a",
       "tabbable": null,
       "tooltip": null,
       "value": 1220365908.0
      }
     },
     "e0167ff2fdf343e791f32bfc0547938a": {
      "model_module": "@jupyter-widgets/controls",
      "model_module_version": "2.0.0",
      "model_name": "ProgressStyleModel",
      "state": {
       "_model_module": "@jupyter-widgets/controls",
       "_model_module_version": "2.0.0",
       "_model_name": "ProgressStyleModel",
       "_view_count": null,
       "_view_module": "@jupyter-widgets/base",
       "_view_module_version": "2.0.0",
       "_view_name": "StyleView",
       "bar_color": null,
       "description_width": ""
      }
     },
     "e591ea588cbd46b78a13d03f95001aec": {
      "model_module": "@jupyter-widgets/base",
      "model_module_version": "2.0.0",
      "model_name": "LayoutModel",
      "state": {
       "_model_module": "@jupyter-widgets/base",
       "_model_module_version": "2.0.0",
       "_model_name": "LayoutModel",
       "_view_count": null,
       "_view_module": "@jupyter-widgets/base",
       "_view_module_version": "2.0.0",
       "_view_name": "LayoutView",
       "align_content": null,
       "align_items": null,
       "align_self": null,
       "border_bottom": null,
       "border_left": null,
       "border_right": null,
       "border_top": null,
       "bottom": null,
       "display": null,
       "flex": null,
       "flex_flow": null,
       "grid_area": null,
       "grid_auto_columns": null,
       "grid_auto_flow": null,
       "grid_auto_rows": null,
       "grid_column": null,
       "grid_gap": null,
       "grid_row": null,
       "grid_template_areas": null,
       "grid_template_columns": null,
       "grid_template_rows": null,
       "height": null,
       "justify_content": null,
       "justify_items": null,
       "left": null,
       "margin": null,
       "max_height": null,
       "max_width": null,
       "min_height": null,
       "min_width": null,
       "object_fit": null,
       "object_position": null,
       "order": null,
       "overflow": null,
       "padding": null,
       "right": null,
       "top": null,
       "visibility": null,
       "width": null
      }
     },
     "e8042d6fddc24ea9b7d045a45db66a09": {
      "model_module": "@jupyter-widgets/controls",
      "model_module_version": "2.0.0",
      "model_name": "HBoxModel",
      "state": {
       "_dom_classes": [],
       "_model_module": "@jupyter-widgets/controls",
       "_model_module_version": "2.0.0",
       "_model_name": "HBoxModel",
       "_view_count": null,
       "_view_module": "@jupyter-widgets/controls",
       "_view_module_version": "2.0.0",
       "_view_name": "HBoxView",
       "box_style": "",
       "children": [
        "IPY_MODEL_ecd81908536e4f2a96b0bf136af64705",
        "IPY_MODEL_db02838233f547be8f66fdf6ae2603ee",
        "IPY_MODEL_8dbb6369ef2d4fb8b188c3ece5a0d516"
       ],
       "layout": "IPY_MODEL_49bf0f9e60484df4ab121ea7a161819c",
       "tabbable": null,
       "tooltip": null
      }
     },
     "ecd81908536e4f2a96b0bf136af64705": {
      "model_module": "@jupyter-widgets/controls",
      "model_module_version": "2.0.0",
      "model_name": "HTMLModel",
      "state": {
       "_dom_classes": [],
       "_model_module": "@jupyter-widgets/controls",
       "_model_module_version": "2.0.0",
       "_model_name": "HTMLModel",
       "_view_count": null,
       "_view_module": "@jupyter-widgets/controls",
       "_view_module_version": "2.0.0",
       "_view_name": "HTMLView",
       "description": "",
       "description_allow_html": false,
       "layout": "IPY_MODEL_d96f344a4704410d9c709fa61250773c",
       "placeholder": "​",
       "style": "IPY_MODEL_24929269ac4b48a5874d04e58558b24e",
       "tabbable": null,
       "tooltip": null,
       "value": "model.safetensors: 100%"
      }
     }
    },
    "version_major": 2,
    "version_minor": 0
   }
  }
 },
 "nbformat": 4,
 "nbformat_minor": 5
}
